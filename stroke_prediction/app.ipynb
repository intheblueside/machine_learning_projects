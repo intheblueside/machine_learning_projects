{
  "nbformat": 4,
  "nbformat_minor": 0,
  "metadata": {
    "colab": {
      "provenance": [],
      "authorship_tag": "ABX9TyMnFpk3zNmFrKL6J+DQ3YUo",
      "include_colab_link": true
    },
    "kernelspec": {
      "name": "python3",
      "display_name": "Python 3"
    },
    "language_info": {
      "name": "python"
    }
  },
  "cells": [
    {
      "cell_type": "markdown",
      "metadata": {
        "id": "view-in-github",
        "colab_type": "text"
      },
      "source": [
        "<a href=\"https://colab.research.google.com/github/intheblueside/machine_learning_projects/blob/main/stroke_prediction/app.ipynb\" target=\"_parent\"><img src=\"https://colab.research.google.com/assets/colab-badge.svg\" alt=\"Open In Colab\"/></a>"
      ]
    },
    {
      "cell_type": "code",
      "execution_count": null,
      "metadata": {
        "id": "0UhJ6g7YdQ-v",
        "colab": {
          "base_uri": "https://localhost:8080/"
        },
        "outputId": "b5570939-13c9-429b-f46d-434dc7dad01d"
      },
      "outputs": [
        {
          "output_type": "stream",
          "name": "stdout",
          "text": [
            "\u001b[2K     \u001b[90m━━━━━━━━━━━━━━━━━━━━━━━━━━━━━━━━━━━━━━━━\u001b[0m \u001b[32m8.5/8.5 MB\u001b[0m \u001b[31m41.3 MB/s\u001b[0m eta \u001b[36m0:00:00\u001b[0m\n",
            "\u001b[2K     \u001b[90m━━━━━━━━━━━━━━━━━━━━━━━━━━━━━━━━━━━━━━━━\u001b[0m \u001b[32m207.3/207.3 kB\u001b[0m \u001b[31m14.0 MB/s\u001b[0m eta \u001b[36m0:00:00\u001b[0m\n",
            "\u001b[2K     \u001b[90m━━━━━━━━━━━━━━━━━━━━━━━━━━━━━━━━━━━━━━━━\u001b[0m \u001b[32m6.9/6.9 MB\u001b[0m \u001b[31m45.4 MB/s\u001b[0m eta \u001b[36m0:00:00\u001b[0m\n",
            "\u001b[2K     \u001b[90m━━━━━━━━━━━━━━━━━━━━━━━━━━━━━━━━━━━━━━━━\u001b[0m \u001b[32m83.0/83.0 kB\u001b[0m \u001b[31m4.8 MB/s\u001b[0m eta \u001b[36m0:00:00\u001b[0m\n",
            "\u001b[2K     \u001b[90m━━━━━━━━━━━━━━━━━━━━━━━━━━━━━━━━━━━━━━━━\u001b[0m \u001b[32m62.7/62.7 kB\u001b[0m \u001b[31m3.5 MB/s\u001b[0m eta \u001b[36m0:00:00\u001b[0m\n",
            "\u001b[?25h"
          ]
        }
      ],
      "source": [
        "!pip install -q streamlit"
      ]
    },
    {
      "cell_type": "code",
      "source": [
        "!pip install joblib"
      ],
      "metadata": {
        "colab": {
          "base_uri": "https://localhost:8080/"
        },
        "id": "gx6E8IgueXsq",
        "outputId": "88ed1416-3a63-4467-dcab-e53b218a3bba"
      },
      "execution_count": null,
      "outputs": [
        {
          "output_type": "stream",
          "name": "stdout",
          "text": [
            "Requirement already satisfied: joblib in /usr/local/lib/python3.10/dist-packages (1.4.2)\n"
          ]
        }
      ]
    },
    {
      "cell_type": "markdown",
      "source": [
        "run either one only, inlcude %%writefile app.py at the top of the file that you are going to run."
      ],
      "metadata": {
        "id": "Y54P8vjdjeCj"
      }
    },
    {
      "cell_type": "code",
      "source": [
        "\n",
        "import streamlit as st\n",
        "import pickle\n",
        "import numpy as np\n",
        "import pandas as pd\n",
        "from tensorflow import keras\n",
        "from sklearn.preprocessing import StandardScaler\n",
        "\n",
        "# Load the trained model\n",
        "model_path = 'stroke_prediction.h5'  # Replace with the correct path to your model file\n",
        "model = keras.models.load_model(model_path)\n",
        "\n",
        "# Title\n",
        "st.header(\"Stroke Prediction Using Neural Networks\")\n",
        "\n",
        "# Input bar 1\n",
        "age = st.number_input(\"Enter Age\", min_value=1, max_value=100, value=1, step=1)\n",
        "\n",
        "# Input bar 2\n",
        "bmi = st.number_input(\"Enter BMI\", min_value=1, max_value=300, value=1, step=1)\n",
        "\n",
        "# Input bar 3\n",
        "glucose = st.number_input(\"Enter Average glucose level\", min_value=1, max_value=300, value=1, step=1)\n",
        "\n",
        "hypertension = st.number_input(\"Enter Hypertension\", min_value=0, max_value=2, value=1, step=1)\n",
        "heart = st.number_input(\"Enter heart disease 1 or 0\", min_value=0, max_value=2, value=1, step=1)\n",
        "\n",
        "#rural\n",
        "residence = st.selectbox('Residence Type?',('Urban', 'Rural'))\n",
        "if residence == 'Urban':\n",
        "    urban_value = 1\n",
        "    rural_value = 0\n",
        "else:\n",
        "    urban_value = 0\n",
        "    rural_value = 1\n",
        "\n",
        "#gender\n",
        "gender = st.selectbox('Gender?', ('Male', 'Female', 'Other'))\n",
        "if gender == 'Male':\n",
        "  male = 1\n",
        "  female = 0\n",
        "  other = 0\n",
        "elif gender == 'Female':\n",
        "  male = 0\n",
        "  female = 1\n",
        "  other = 0\n",
        "else:\n",
        "  male = 0\n",
        "  female = 0\n",
        "  other = 1\n",
        "\n",
        "#married\n",
        "marry = st.selectbox('Ever Married?',('Yes', 'No'))\n",
        "if marry == 'Yes':\n",
        "    marry_yes = 1\n",
        "    marry_no = 0\n",
        "else:\n",
        "    marry_yes = 0\n",
        "    marry_no = 1\n",
        "\n",
        "#smoke\n",
        "smoke = st.selectbox('Smoke Status?', ('Never smoked', 'Unkown Status', 'Formerly smokes', 'Smokes'))\n",
        "if smoke  == 'Never smoked':\n",
        "  smoke_never = 1\n",
        "  unknown = 0\n",
        "  smoke_former = 0\n",
        "  smokes = 0\n",
        "elif smoke  == 'Unknown Status':\n",
        "  smoke_never = 0\n",
        "  unknown = 1\n",
        "  smoke_former = 0\n",
        "  smokes = 0\n",
        "elif smoke  == 'Formerly smokes':\n",
        "  smoke_never = 0\n",
        "  unknown = 0\n",
        "  smoke_former = 1\n",
        "  smokes = 0\n",
        "else:\n",
        "  smoke_never = 0\n",
        "  unknown = 0\n",
        "  smoke_former = 0\n",
        "  smokes = 1\n",
        "\n",
        "#work\n",
        "work = st.selectbox('Working Status?', ('Self employed', 'Private', 'Governemnt', 'Children', 'Never'))\n",
        "if work  == 'Self employed':\n",
        "  work_self = 1\n",
        "  work_private = 0\n",
        "  work_govt = 0\n",
        "  work_child  = 0\n",
        "  work_never = 0\n",
        "elif work  == 'Private':\n",
        "  work_self = 0\n",
        "  work_private = 1\n",
        "  work_govt = 0\n",
        "  work_child  = 0\n",
        "  work_never = 0\n",
        "elif work  == 'Governemnt':\n",
        "  work_self = 0\n",
        "  work_private = 0\n",
        "  work_govt = 1\n",
        "  work_child  = 0\n",
        "  work_never = 0\n",
        "elif work  == 'Children':\n",
        "  work_self = 0\n",
        "  work_private = 0\n",
        "  work_govt = 0\n",
        "  work_child  = 1\n",
        "  work_never = 0\n",
        "else:\n",
        "  work_self = 0\n",
        "  work_private = 0\n",
        "  work_govt = 0\n",
        "  work_child  = 0\n",
        "  work_never = 1\n",
        "\n",
        "\n",
        "# If button is pressed\n",
        "if st.button(\"Submit\"):\n",
        "    # Preprocess the input data\n",
        "    standardizer = StandardScaler()\n",
        "    X = standardizer.fit_transform([[age, bmi, glucose, hypertension, heart, smoke_never, work_private, rural_value, male, other, urban_value,\n",
        "    female, smoke_former, work_self, smokes, unknown, work_govt, marry_no, marry_yes, work_child, work_never]])\n",
        "\n",
        "    # Get prediction\n",
        "    prediction = model.predict(X)[0][0]\n",
        "\n",
        "    # Convert prediction to label\n",
        "    if prediction >= 0.5:\n",
        "        label = \"Stroke\"\n",
        "    else:\n",
        "        label = \"No Stroke\"\n",
        "\n",
        "    # Output prediction\n",
        "    st.text(f\"This instance is predicted as {label}\")"
      ],
      "metadata": {
        "colab": {
          "base_uri": "https://localhost:8080/"
        },
        "id": "qXEp6R1Zy_Vr",
        "outputId": "5a5c32b5-6afd-415e-faec-9e81fbd0b8f8"
      },
      "execution_count": null,
      "outputs": [
        {
          "output_type": "stream",
          "name": "stdout",
          "text": [
            "Overwriting app.py\n"
          ]
        }
      ]
    },
    {
      "cell_type": "code",
      "source": [
        "%%writefile app.py\n",
        "import streamlit as st\n",
        "import numpy as np\n",
        "import pandas as pd\n",
        "import tensorflow as tf\n",
        "from sklearn.preprocessing import StandardScaler\n",
        "from tensorflow.keras.models import load_model\n",
        "\n",
        "\n",
        "# Function to preprocess input data\n",
        "def preprocess_input(age, bmi, glucose, hypertension, heart, smoke_never, work_private, rural_value, male, other, urban_value,\n",
        "    female, smoke_former, work_self, smokes, unknown, work_govt, marry_no, marry_yes, work_child, work_never):\n",
        "    # Perform any required preprocessing on the input data\n",
        "    # For example, scaling or normalization\n",
        "    # Return the preprocessed input as a numpy array\n",
        "    processed_input = np.array([[age, bmi, glucose, hypertension, heart, smoke_never, work_private, rural_value, male, other, urban_value,\n",
        "    female, smoke_former, work_self, smokes, unknown, work_govt, marry_no, marry_yes, work_child, work_never]])\n",
        "\n",
        "\n",
        "    return processed_input\n",
        "\n",
        "# Function to make predictions\n",
        "def make_prediction(input_data):\n",
        "    # Perform prediction using the loaded model\n",
        "\n",
        "    prediction = model.predict(input_data)\n",
        "    return prediction[0][0]  # Assuming the prediction is a single value\n",
        "\n",
        "# Streamlit app\n",
        "def main():\n",
        "    # Title\n",
        "    st.title(\"Stroke Prediction App\")\n",
        "\n",
        "    # Input fields\n",
        "    age = st.number_input(\"Enter Age\", min_value=1, max_value=100)\n",
        "    glucose = st.number_input(\"Enter Average Glucose Level\")\n",
        "    bmi = st.number_input(\"Enter BMI\")\n",
        "    hypertension = st.number_input(\"Enter Hypertension\", min_value=0, max_value=2, value=1, step=1)\n",
        "    heart = st.number_input(\"Enter heart disease 1 or 0\", min_value=0, max_value=2, value=1, step=1)\n",
        "\n",
        "    #rural\n",
        "    residence = st.selectbox('Residence Type?',('Urban', 'Rural'))\n",
        "    if residence == 'Urban':\n",
        "        urban_value = 1\n",
        "        rural_value = 0\n",
        "    else:\n",
        "        urban_value = 0\n",
        "        rural_value = 1\n",
        "\n",
        "    #gender\n",
        "    gender = st.selectbox('Gender?', ('Male', 'Female', 'Other'))\n",
        "    if gender == 'Male':\n",
        "      male = 1\n",
        "      female = 0\n",
        "      other = 0\n",
        "    elif gender == 'Female':\n",
        "      male = 0\n",
        "      female = 1\n",
        "      other = 0\n",
        "    else:\n",
        "      male = 0\n",
        "      female = 0\n",
        "      other = 1\n",
        "\n",
        "    #married\n",
        "    marry = st.selectbox('Ever Married?',('Yes', 'No'))\n",
        "    if marry == 'Yes':\n",
        "        marry_yes = 1\n",
        "        marry_no = 0\n",
        "    else:\n",
        "        marry_yes = 0\n",
        "        marry_no = 1\n",
        "\n",
        "    #smoke\n",
        "    smoke = st.selectbox('Smoke Status?', ('Never smoked', 'Unkown Status', 'Formerly smokes', 'Smokes'))\n",
        "    if smoke  == 'Never smoked':\n",
        "      smoke_never = 1\n",
        "      unknown = 0\n",
        "      smoke_former = 0\n",
        "      smokes = 0\n",
        "    elif smoke  == 'Unknown Status':\n",
        "      smoke_never = 0\n",
        "      unknown = 1\n",
        "      smoke_former = 0\n",
        "      smokes = 0\n",
        "    elif smoke  == 'Formerly smokes':\n",
        "      smoke_never = 0\n",
        "      unknown = 0\n",
        "      smoke_former = 1\n",
        "      smokes = 0\n",
        "    else:\n",
        "      smoke_never = 0\n",
        "      unknown = 0\n",
        "      smoke_former = 0\n",
        "      smokes = 1\n",
        "\n",
        "    #work\n",
        "    work = st.selectbox('Working Status?', ('Self employed', 'Private', 'Governemnt', 'Children', 'Never'))\n",
        "    if work  == 'Self employed':\n",
        "      work_self = 1\n",
        "      work_private = 0\n",
        "      work_govt = 0\n",
        "      work_child  = 0\n",
        "      work_never = 0\n",
        "    elif work  == 'Private':\n",
        "      work_self = 0\n",
        "      work_private = 1\n",
        "      work_govt = 0\n",
        "      work_child  = 0\n",
        "      work_never = 0\n",
        "    elif work  == 'Governemnt':\n",
        "      work_self = 0\n",
        "      work_private = 0\n",
        "      work_govt = 1\n",
        "      work_child  = 0\n",
        "      work_never = 0\n",
        "    elif work  == 'Children':\n",
        "      work_self = 0\n",
        "      work_private = 0\n",
        "      work_govt = 0\n",
        "      work_child  = 1\n",
        "      work_never = 0\n",
        "    else:\n",
        "      work_self = 0\n",
        "      work_private = 0\n",
        "      work_govt = 0\n",
        "      work_child  = 0\n",
        "      work_never = 1\n",
        "\n",
        "    # Preprocess input\n",
        "    processed_input = preprocess_input(age, bmi, glucose, hypertension, heart, smoke_never, work_private, rural_value, male, other, urban_value,\n",
        "    female, smoke_former, work_self, smokes, unknown, work_govt, marry_no, marry_yes, work_child, work_never)\n",
        "\n",
        "    # Make prediction\n",
        "    if st.button(\"Predict\"):\n",
        "\n",
        "        prediction = make_prediction(processed_input)\n",
        "        if prediction > 0.5:\n",
        "            st.error(\"High risk of stroke\")\n",
        "        else:\n",
        "            st.success(\"Low risk of stroke\")\n",
        "\n",
        "# Run the app\n",
        "if __name__ == '__main__':\n",
        "    # Load the trained neural network model\n",
        "    model_path = 'stroke_prediction.h5'  # Replace with the actual path to your trained model file\n",
        "    model = load_model(model_path)\n",
        "\n",
        "    # Run the Streamlit app\n",
        "    main()"
      ],
      "metadata": {
        "colab": {
          "base_uri": "https://localhost:8080/"
        },
        "id": "B32-IpMkgjdx",
        "outputId": "e63db956-2786-4b5c-d206-10b8c9b2ff21"
      },
      "execution_count": null,
      "outputs": [
        {
          "output_type": "stream",
          "name": "stdout",
          "text": [
            "Writing app.py\n"
          ]
        }
      ]
    },
    {
      "cell_type": "code",
      "source": [
        "!npm install localtunnel"
      ],
      "metadata": {
        "colab": {
          "base_uri": "https://localhost:8080/"
        },
        "id": "18DtyjwadgLs",
        "outputId": "80fea712-45ba-4478-9b33-f153e0bc66b4"
      },
      "execution_count": null,
      "outputs": [
        {
          "output_type": "stream",
          "name": "stdout",
          "text": [
            "\u001b[K\u001b[?25h\u001b[37;40mnpm\u001b[0m \u001b[0m\u001b[30;43mWARN\u001b[0m \u001b[0m\u001b[35msaveError\u001b[0m ENOENT: no such file or directory, open '/content/package.json'\n",
            "\u001b[0m\u001b[37;40mnpm\u001b[0m \u001b[0m\u001b[34;40mnotice\u001b[0m\u001b[35m\u001b[0m created a lockfile as package-lock.json. You should commit this file.\n",
            "\u001b[0m\u001b[37;40mnpm\u001b[0m \u001b[0m\u001b[30;43mWARN\u001b[0m \u001b[0m\u001b[35menoent\u001b[0m ENOENT: no such file or directory, open '/content/package.json'\n",
            "\u001b[0m\u001b[37;40mnpm\u001b[0m \u001b[0m\u001b[30;43mWARN\u001b[0m\u001b[35m\u001b[0m content No description\n",
            "\u001b[0m\u001b[37;40mnpm\u001b[0m \u001b[0m\u001b[30;43mWARN\u001b[0m\u001b[35m\u001b[0m content No repository field.\n",
            "\u001b[0m\u001b[37;40mnpm\u001b[0m \u001b[0m\u001b[30;43mWARN\u001b[0m\u001b[35m\u001b[0m content No README data\n",
            "\u001b[0m\u001b[37;40mnpm\u001b[0m \u001b[0m\u001b[30;43mWARN\u001b[0m\u001b[35m\u001b[0m content No license field.\n",
            "\u001b[0m\n",
            "+ localtunnel@2.0.2\n",
            "added 22 packages from 22 contributors and audited 22 packages in 1.966s\n",
            "\n",
            "3 packages are looking for funding\n",
            "  run `npm fund` for details\n",
            "\n",
            "found 1 \u001b[93mmoderate\u001b[0m severity vulnerability\n",
            "  run `npm audit fix` to fix them, or `npm audit` for details\n",
            "\u001b[K\u001b[?25h"
          ]
        }
      ]
    },
    {
      "cell_type": "code",
      "source": [
        "!streamlit run app.py &>/content/logs.txt & npx localtunnel --port 8501 & curl ipv4.icanhazip.com"
      ],
      "metadata": {
        "colab": {
          "base_uri": "https://localhost:8080/"
        },
        "id": "zn-4eT_IdjMs",
        "outputId": "3a64aee0-f10e-48e7-f132-ea00dda24d8b"
      },
      "execution_count": null,
      "outputs": [
        {
          "output_type": "stream",
          "name": "stdout",
          "text": [
            "34.85.221.67\n",
            "\u001b[K\u001b[?25hnpx: installed 22 in 1.879s\n",
            "your url is: https://afraid-streets-push.loca.lt\n"
          ]
        }
      ]
    }
  ]
}